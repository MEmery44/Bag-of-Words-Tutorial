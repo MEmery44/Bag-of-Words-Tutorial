{
 "cells": [
  {
   "cell_type": "code",
   "execution_count": 3,
   "metadata": {
    "collapsed": false
   },
   "outputs": [
    {
     "name": "stdout",
     "output_type": "stream",
     "text": [
      "Read 25000 labeled train reviews, \n",
      "        25000 labeled test reviews, \n",
      "        and 50000 unlabeled reviews\n"
     ]
    }
   ],
   "source": [
    "import pandas as pd\n",
    "\n",
    "# Read data from files\n",
    "train = pd.read_csv('labeledTrainData.tsv', header=0, delimiter='\\t', quoting=3)\n",
    "test = pd.read_csv('testData.tsv', header=0, delimiter='\\t', quoting=3)\n",
    "unlabeled_train = pd.read_csv('unlabeledTrainData.tsv', header=0, delimiter='\\t', quoting=3)\n",
    "\n",
    "# Verify the numer of reviews that were read (100, 00 in total)\n",
    "print(\"\"\"Read {} labeled train reviews, \n",
    "{} labeled test reviews, \n",
    "and {} unlabeled reviews\"\"\".format(\n",
    "    train['review'].size, test['review'].size, unlabeled_train['review'].size))"
   ]
  },
  {
   "cell_type": "code",
   "execution_count": 4,
   "metadata": {
    "collapsed": true
   },
   "outputs": [],
   "source": [
    "# Import various modules for string cleaning\n",
    "from bs4 import BeautifulSoup\n",
    "import re\n",
    "from nltk.corpus import stopwords\n",
    "\n",
    "def review_to_wordlist(review, remove_stopwords=False):\n",
    "    \"\"\"Function to convert a  document to a sequence of words, optionally removing stop words. Returns a list of words.\"\"\"\n",
    "    # 1. Remove HTML\n",
    "    review_text = BeautifulSoup(review).get_text()\n",
    "    # 2. Remove Non-letters\n",
    "    review_text = re.sub('[^a-zA-Z]', ' ', review_text)\n",
    "    # 3. Convert words to lower case and split them\n",
    "    words = review_text.lower().split()\n",
    "    # 4. Optionally remove stop words\n",
    "    if remove_stopwords:\n",
    "        stops = set(stopwords.words('english'))\n",
    "        words = [word for word in words if not word in stops]\n",
    "    return words\n",
    "        "
   ]
  },
  {
   "cell_type": "code",
   "execution_count": 8,
   "metadata": {
    "collapsed": false
   },
   "outputs": [
    {
     "name": "stdout",
     "output_type": "stream",
     "text": [
      "showing info https://raw.githubusercontent.com/nltk/nltk_data/gh-pages/index.xml\n"
     ]
    }
   ],
   "source": [
    "# Downlaod the punkt tokenizer for sentence splitting\n",
    "import nltk.data\n",
    "nltk.download()\n",
    "\n",
    "# Load the punkt tokenizer\n",
    "tokenizer = nltk.data.load('tokenizers/punkt/english.pickle')\n",
    "\n",
    "# Define a function ot split a review into parsed sentences\n",
    "def review_to_sentences(review, tokenzier, remove_stopwords=False):\n",
    "    \"\"\"Function to split a review into parsed sentences. Returns\n",
    "    a lsit of sentences, where each sentence is a list of words\"\"\"\n",
    "    # 1. User the NLTK tokenizer to split the paragraph into sentences\n",
    "    raw_sentences = tokenizer.tokenize(review.strip())\n",
    "    # 2. Loop over each sentence\n",
    "    sentences = []\n",
    "    for raw_sentence in raw_sentences:\n",
    "        #If a sentence is empty, skip it\n",
    "        if len(raw_sentence) > 0:\n",
    "            # Otherwise, call review_to_wordlist to get a list of words\n",
    "            sentences.append(review_to_wordlist(raw_sentence, remove_stopwords))\n",
    "    # Return the list of sentences (each sentence is a list of words,\n",
    "    # so this returns a list of lists)\n",
    "    return sentences"
   ]
  },
  {
   "cell_type": "code",
   "execution_count": 10,
   "metadata": {
    "collapsed": false,
    "scrolled": true
   },
   "outputs": [
    {
     "name": "stdout",
     "output_type": "stream",
     "text": [
      "Parsing sentences from training set\n"
     ]
    },
    {
     "name": "stderr",
     "output_type": "stream",
     "text": [
      "/home/memery/anaconda3/lib/python3.5/site-packages/bs4/__init__.py:166: UserWarning: No parser was explicitly specified, so I'm using the best available HTML parser for this system (\"lxml\"). This usually isn't a problem, but if you run this code on another system, or in a different virtual environment, it may use a different parser and behave differently.\n",
      "\n",
      "To get rid of this warning, change this:\n",
      "\n",
      " BeautifulSoup([your markup])\n",
      "\n",
      "to this:\n",
      "\n",
      " BeautifulSoup([your markup], \"lxml\")\n",
      "\n",
      "  markup_type=markup_type))\n",
      "/home/memery/anaconda3/lib/python3.5/site-packages/bs4/__init__.py:198: UserWarning: \"b'.'\" looks like a filename, not markup. You should probably open this file and pass the filehandle into Beautiful Soup.\n",
      "  '\"%s\" looks like a filename, not markup. You should probably open this file and pass the filehandle into Beautiful Soup.' % markup)\n",
      "/home/memery/anaconda3/lib/python3.5/site-packages/bs4/__init__.py:207: UserWarning: \"b'http://www.happierabroad.com\"'\" looks like a URL. Beautiful Soup is not an HTTP client. You should probably use an HTTP client to get the document behind the URL, and feed that document to Beautiful Soup.\n",
      "  '\"%s\" looks like a URL. Beautiful Soup is not an HTTP client. You should probably use an HTTP client to get the document behind the URL, and feed that document to Beautiful Soup.' % markup)\n"
     ]
    },
    {
     "name": "stdout",
     "output_type": "stream",
     "text": [
      "Parsing sentences from unlabled set\n"
     ]
    },
    {
     "name": "stderr",
     "output_type": "stream",
     "text": [
      "/home/memery/anaconda3/lib/python3.5/site-packages/bs4/__init__.py:207: UserWarning: \"b'http://www.archive.org/details/LovefromaStranger\"'\" looks like a URL. Beautiful Soup is not an HTTP client. You should probably use an HTTP client to get the document behind the URL, and feed that document to Beautiful Soup.\n",
      "  '\"%s\" looks like a URL. Beautiful Soup is not an HTTP client. You should probably use an HTTP client to get the document behind the URL, and feed that document to Beautiful Soup.' % markup)\n",
      "/home/memery/anaconda3/lib/python3.5/site-packages/bs4/__init__.py:207: UserWarning: \"b'http://www.loosechangeguide.com/LooseChangeGuide.html\"'\" looks like a URL. Beautiful Soup is not an HTTP client. You should probably use an HTTP client to get the document behind the URL, and feed that document to Beautiful Soup.\n",
      "  '\"%s\" looks like a URL. Beautiful Soup is not an HTTP client. You should probably use an HTTP client to get the document behind the URL, and feed that document to Beautiful Soup.' % markup)\n",
      "/home/memery/anaconda3/lib/python3.5/site-packages/bs4/__init__.py:207: UserWarning: \"b'http://www.msnbc.msn.com/id/4972055/site/newsweek/\"'\" looks like a URL. Beautiful Soup is not an HTTP client. You should probably use an HTTP client to get the document behind the URL, and feed that document to Beautiful Soup.\n",
      "  '\"%s\" looks like a URL. Beautiful Soup is not an HTTP client. You should probably use an HTTP client to get the document behind the URL, and feed that document to Beautiful Soup.' % markup)\n",
      "/home/memery/anaconda3/lib/python3.5/site-packages/bs4/__init__.py:198: UserWarning: \"b'..'\" looks like a filename, not markup. You should probably open this file and pass the filehandle into Beautiful Soup.\n",
      "  '\"%s\" looks like a filename, not markup. You should probably open this file and pass the filehandle into Beautiful Soup.' % markup)\n",
      "/home/memery/anaconda3/lib/python3.5/site-packages/bs4/__init__.py:207: UserWarning: \"b'http://www.youtube.com/watch?v=a0KSqelmgN8\"'\" looks like a URL. Beautiful Soup is not an HTTP client. You should probably use an HTTP client to get the document behind the URL, and feed that document to Beautiful Soup.\n",
      "  '\"%s\" looks like a URL. Beautiful Soup is not an HTTP client. You should probably use an HTTP client to get the document behind the URL, and feed that document to Beautiful Soup.' % markup)\n",
      "/home/memery/anaconda3/lib/python3.5/site-packages/bs4/__init__.py:207: UserWarning: \"b'http://jake-weird.blogspot.com/2007/08/beneath.html\"'\" looks like a URL. Beautiful Soup is not an HTTP client. You should probably use an HTTP client to get the document behind the URL, and feed that document to Beautiful Soup.\n",
      "  '\"%s\" looks like a URL. Beautiful Soup is not an HTTP client. You should probably use an HTTP client to get the document behind the URL, and feed that document to Beautiful Soup.' % markup)\n"
     ]
    }
   ],
   "source": [
    "sentences = [] # Initialize an empty list of sentences\n",
    "\n",
    "print('Parsing sentences from training set')\n",
    "for review in train['review']:\n",
    "    sentences += review_to_sentences(review, tokenizer)\n",
    "    \n",
    "print('Parsing sentences from unlabled set')\n",
    "for review in unlabeled_train['review']:\n",
    "    sentences += review_to_sentences(review, tokenizer)"
   ]
  },
  {
   "cell_type": "code",
   "execution_count": 11,
   "metadata": {
    "collapsed": false
   },
   "outputs": [
    {
     "name": "stdout",
     "output_type": "stream",
     "text": [
      "795538\n",
      "['with', 'all', 'this', 'stuff', 'going', 'down', 'at', 'the', 'moment', 'with', 'mj', 'i', 've', 'started', 'listening', 'to', 'his', 'music', 'watching', 'the', 'odd', 'documentary', 'here', 'and', 'there', 'watched', 'the', 'wiz', 'and', 'watched', 'moonwalker', 'again']\n",
      "['maybe', 'i', 'just', 'want', 'to', 'get', 'a', 'certain', 'insight', 'into', 'this', 'guy', 'who', 'i', 'thought', 'was', 'really', 'cool', 'in', 'the', 'eighties', 'just', 'to', 'maybe', 'make', 'up', 'my', 'mind', 'whether', 'he', 'is', 'guilty', 'or', 'innocent']\n"
     ]
    }
   ],
   "source": [
    "print(len(sentences))\n",
    "print(sentences[0])\n",
    "print(sentences[1])"
   ]
  },
  {
   "cell_type": "code",
   "execution_count": 15,
   "metadata": {
    "collapsed": false
   },
   "outputs": [
    {
     "name": "stdout",
     "output_type": "stream",
     "text": [
      "Training model...\n"
     ]
    }
   ],
   "source": [
    "# Import the built-in logging module and configure it so that Word2Vec\n",
    "# creates nice ouput messages\n",
    "import logging\n",
    "logging.basicConfig(format='%(asctime)s : %(levelname)s : %(message)s', level=logging.INFO)\n",
    "\n",
    "# Set values for various parameters\n",
    "num_features = 300 # Word vector dimensionality\n",
    "min_word_count = 40 # Minimum word count\n",
    "num_workers = 4 # Number of threads to run in parallel\n",
    "context = 10 # Context window size\n",
    "downsampling = 1e-3 # Downsample setting for frequence words\n",
    "\n",
    "# Initialize and train model (this will take some time)\n",
    "from gensim.models import word2vec\n",
    "print('Training model...')\n",
    "model = word2vec.Word2Vec(sentences,\n",
    "                         workers=num_workers,\n",
    "                         size=num_features,\n",
    "                         min_count=min_word_count,\n",
    "                         window=context,\n",
    "                         sample=downsampling)\n",
    "# If you don't plan to train the model any further, calling\n",
    "# init_sims will make the model much more memory-efficient.\n",
    "model.init_sims(replace=True)\n",
    "# It can be helpful to create a meaningful model name and\n",
    "# save the model for later use. You can load it later using Word2Vec.load()\n",
    "model_name = '300features_40minwords_10context'\n",
    "model.save(model_name)"
   ]
  },
  {
   "cell_type": "code",
   "execution_count": 16,
   "metadata": {
    "collapsed": false
   },
   "outputs": [
    {
     "name": "stdout",
     "output_type": "stream",
     "text": [
      "kitchen\n"
     ]
    }
   ],
   "source": [
    "print(model.doesnt_match('man woman child kitchen'.split()))"
   ]
  },
  {
   "cell_type": "code",
   "execution_count": 17,
   "metadata": {
    "collapsed": false
   },
   "outputs": [
    {
     "name": "stdout",
     "output_type": "stream",
     "text": [
      "berlin\n"
     ]
    }
   ],
   "source": [
    "print(model.doesnt_match('france england germany berlin'.split()))"
   ]
  },
  {
   "cell_type": "code",
   "execution_count": 18,
   "metadata": {
    "collapsed": false
   },
   "outputs": [
    {
     "name": "stdout",
     "output_type": "stream",
     "text": [
      "paris\n"
     ]
    }
   ],
   "source": [
    "print(model.doesnt_match('paris berlin london austria'.split()))"
   ]
  },
  {
   "cell_type": "code",
   "execution_count": 20,
   "metadata": {
    "collapsed": false
   },
   "outputs": [
    {
     "name": "stdout",
     "output_type": "stream",
     "text": [
      "[('woman', 0.620460033416748), ('lady', 0.5978381633758545), ('lad', 0.5947127342224121), ('millionaire', 0.5336859226226807), ('guy', 0.5209099054336548), ('monk', 0.5120577812194824), ('men', 0.5044459104537964), ('soldier', 0.5028200149536133), ('boy', 0.49186182022094727), ('person', 0.49071723222732544)]\n",
      "[('princess', 0.6938101649284363), ('bride', 0.6378064155578613), ('maid', 0.5931621789932251), ('belle', 0.5840067267417908), ('stepmother', 0.5785546898841858), ('mistress', 0.5769913792610168), ('nun', 0.5756708383560181), ('mary', 0.5738168954849243), ('goddess', 0.5737065076828003), ('victoria', 0.5731890201568604)]\n"
     ]
    }
   ],
   "source": [
    "print(model.most_similar('man'))\n",
    "print(model.most_similar('queen'))"
   ]
  },
  {
   "cell_type": "code",
   "execution_count": 21,
   "metadata": {
    "collapsed": false
   },
   "outputs": [
    {
     "name": "stdout",
     "output_type": "stream",
     "text": [
      "[('terrible', 0.7707134485244751), ('horrible', 0.7411921620368958), ('atrocious', 0.7342128753662109), ('abysmal', 0.7259578704833984), ('dreadful', 0.703248918056488), ('appalling', 0.6884777545928955), ('horrendous', 0.6792418956756592), ('horrid', 0.6619541049003601), ('lousy', 0.6417896747589111), ('amateurish', 0.6281046867370605)]\n"
     ]
    }
   ],
   "source": [
    "print(model.most_similar('awful'))"
   ]
  },
  {
   "cell_type": "code",
   "execution_count": 22,
   "metadata": {
    "collapsed": false
   },
   "outputs": [
    {
     "name": "stdout",
     "output_type": "stream",
     "text": [
      "<class 'numpy.ndarray'>\n",
      "(16490, 300)\n"
     ]
    }
   ],
   "source": [
    "# Load the model that we created in Part 2\n",
    "from gensim.models import Word2Vec\n",
    "model = Word2Vec.load('300features_40minwords_10context')\n",
    "print(type(model.syn0))\n",
    "print(model.syn0.shape)"
   ]
  },
  {
   "cell_type": "code",
   "execution_count": 23,
   "metadata": {
    "collapsed": false
   },
   "outputs": [
    {
     "name": "stdout",
     "output_type": "stream",
     "text": [
      "[ 0.2618922   0.00607259 -0.02737801  0.06234417 -0.04600378 -0.01870163\n",
      "  0.01574566  0.06589511  0.03533733 -0.02260944  0.11126167  0.03386962\n",
      " -0.0160492  -0.12030359  0.03212173 -0.03332198 -0.01643397 -0.04414876\n",
      "  0.06900069 -0.01394662  0.0328128  -0.02321619  0.05129942 -0.00926392\n",
      " -0.01397796 -0.00944078  0.05401015  0.02342801  0.07461627  0.00282747\n",
      "  0.06374865 -0.05665589  0.07150409 -0.03846945  0.0469505  -0.01519634\n",
      "  0.02555021 -0.01127653 -0.06053138  0.03177625 -0.03894054 -0.02675777\n",
      "  0.10457046 -0.13731593  0.01265697 -0.0304191   0.13601707 -0.04821696\n",
      " -0.05875409  0.05285454  0.00799542 -0.09708098 -0.0089174  -0.01670512\n",
      " -0.00739111  0.03731174 -0.02266014 -0.03806334 -0.04263867 -0.05053771\n",
      " -0.08273013 -0.05926327  0.10405719 -0.02973797  0.07222268 -0.01441816\n",
      " -0.07967248  0.05233915 -0.0727954   0.01434353 -0.00204398 -0.05825311\n",
      " -0.01953697  0.07926004 -0.11219627 -0.02612725 -0.06892834 -0.02042108\n",
      "  0.00042455 -0.06259683  0.03985948  0.11488532 -0.08573487  0.00759311\n",
      " -0.09406985  0.02844093 -0.05461766  0.06535531  0.02949738 -0.04387471\n",
      "  0.0652584  -0.02044033 -0.06324861  0.03054974 -0.03475321  0.16005525\n",
      "  0.04474955 -0.03168721 -0.00654307  0.00100791 -0.00117927 -0.04897664\n",
      "  0.00503682 -0.01134533 -0.08764693  0.07372139  0.14383481 -0.04031475\n",
      "  0.00336734 -0.06578989  0.03855153  0.13130967 -0.02660769  0.07428556\n",
      " -0.05295018  0.05679872 -0.0212333   0.06194507  0.04440861 -0.05699406\n",
      " -0.04640697  0.07284604  0.04106525 -0.02589447  0.08311254  0.00145363\n",
      "  0.03152269  0.00219984 -0.00189408 -0.01836311  0.02107746  0.05571856\n",
      " -0.03188587  0.06677856 -0.03909928  0.02366858  0.01568921  0.09027965\n",
      " -0.03667711  0.0261952  -0.00944748  0.03626015 -0.04480552 -0.01456738\n",
      " -0.00148248  0.06797073 -0.04213456  0.0264985   0.03209886 -0.02738054\n",
      "  0.04190512 -0.05581659  0.03579592  0.00086182  0.01014155 -0.0232881\n",
      "  0.0026431   0.04316533 -0.02034375 -0.04671949  0.06212306  0.02816944\n",
      "  0.09221233  0.03515979  0.0026553  -0.02123511 -0.10509849  0.02230641\n",
      " -0.024221   -0.02397789  0.13089375 -0.03739696 -0.03542225  0.10689536\n",
      "  0.02639578 -0.00109916  0.01604031 -0.06603865 -0.02815676  0.10768443\n",
      "  0.02290151  0.02590731  0.04798782 -0.04349132  0.0149534   0.04850797\n",
      "  0.01496363  0.11562548  0.0362173   0.03023922 -0.04843938  0.01034345\n",
      " -0.04797595 -0.04836124 -0.05677066 -0.0065927  -0.04624773  0.06154155\n",
      " -0.051486   -0.00200684  0.01245576 -0.01846827  0.07639635  0.0495677\n",
      " -0.01638862  0.03104052  0.01644091 -0.01555855  0.05589011 -0.039811\n",
      "  0.04207262 -0.08733372 -0.03347582  0.07914983 -0.01269855 -0.01265634\n",
      " -0.03189872 -0.04877618  0.0565561  -0.04654925  0.04434486 -0.03482391\n",
      "  0.06218834  0.0942452   0.00862233  0.03240875  0.01434305  0.06121879\n",
      "  0.09744275  0.06961488  0.07374308 -0.01610111 -0.08272131  0.06248659\n",
      "  0.07111237 -0.02117386 -0.05208384 -0.0995989   0.02566813 -0.01365915\n",
      "  0.01096054 -0.02285919 -0.03536132  0.0137209  -0.06259955 -0.00711416\n",
      " -0.04322193 -0.0333418  -0.03010409  0.0629444  -0.09466692  0.20841764\n",
      "  0.0074263   0.00692682 -0.09390816 -0.09345473 -0.03301585 -0.02455243\n",
      "  0.08044025 -0.0109279   0.05148017 -0.06882769 -0.07212653  0.06063931\n",
      "  0.0937548  -0.03621225 -0.00481423  0.00335415 -0.00645987 -0.13324302\n",
      " -0.02367094 -0.04890174  0.0798851   0.08666683 -0.02318892  0.05268978\n",
      "  0.06113743 -0.01846755 -0.07000311  0.01904668 -0.05656339  0.02005907\n",
      " -0.13522521  0.01805975  0.01202685 -0.12182312  0.05436516 -0.00562886\n",
      "  0.01996442  0.02296269  0.01307867  0.03524126  0.00803874 -0.0714112\n",
      "  0.05954197 -0.04227969  0.01795391 -0.01577942 -0.0617987   0.10298425]\n"
     ]
    }
   ],
   "source": [
    "print(model['flowers'])"
   ]
  },
  {
   "cell_type": "code",
   "execution_count": 24,
   "metadata": {
    "collapsed": true
   },
   "outputs": [],
   "source": [
    "import numpy as np\n",
    "\n",
    "def makeFeatureVec(words, model, num_features):\n",
    "    \"\"\"Function to average all the word vectors in a given paragraph\"\"\"\n",
    "    # Pre-initialize an empty numpy array (for speed)\n",
    "    featureVec = np.zeros((num_features,),dtype='float32')\n",
    "    nwords = 0\n",
    "    # Index2word is a list that contains the names of the words in\n",
    "    # the model's vocabulary. Convert it to a set, for speed\n",
    "    index2word_set = set(model.index2word)\n",
    "    \n",
    "    # Loop over each word in the review and, if it is in the model's\n",
    "    # vocabulary, add it's feature vector to the total\n",
    "    for word in words:\n",
    "        if word in index2word_set:\n",
    "            nwords = nwords + 1\n",
    "            featureVec = np.add(featureVec, model[word])\n",
    "    \n",
    "    # divide the result by the number of words to get the average\n",
    "    featureVec = np.divide(featureVec, nwords)\n",
    "    return featureVec\n",
    "\n",
    "\n",
    "def getAvgFeatureVecs(reviews, model, num_features):\n",
    "    \"\"\"Given a set of reviews (each one a list of words), calculate\n",
    "     the average feature vector for each one and return a 2D numpy array\"\"\"\n",
    "    # Initialize a counter\n",
    "    counter = 0.\n",
    "    # Preallocate a 2D numpy array, for speed\n",
    "    reviewFeatureVecs = np.zeros((len(reviews), num_features), dtype='float32')\n",
    "    # Loop through the reviews\n",
    "    \n",
    "    for review in reviews:\n",
    "        # Print a status message every 1000th review\n",
    "        if counter % 1000. == 0.:\n",
    "            print('Review {} of {}'.format(counter, len(reviews)))\n",
    "            \n",
    "        # Call the function (defined above) that makes average feature vectors\n",
    "        reviewFeatureVecs[counter] = makeFeatureVec(review, model, num_features)\n",
    "        #Increment the counter\n",
    "        counter += 1\n",
    "    return reviewFeatureVecs\n",
    "        "
   ]
  },
  {
   "cell_type": "code",
   "execution_count": 26,
   "metadata": {
    "collapsed": false
   },
   "outputs": [
    {
     "name": "stderr",
     "output_type": "stream",
     "text": [
      "/home/memery/anaconda3/lib/python3.5/site-packages/bs4/__init__.py:166: UserWarning: No parser was explicitly specified, so I'm using the best available HTML parser for this system (\"lxml\"). This usually isn't a problem, but if you run this code on another system, or in a different virtual environment, it may use a different parser and behave differently.\n",
      "\n",
      "To get rid of this warning, change this:\n",
      "\n",
      " BeautifulSoup([your markup])\n",
      "\n",
      "to this:\n",
      "\n",
      " BeautifulSoup([your markup], \"lxml\")\n",
      "\n",
      "  markup_type=markup_type))\n"
     ]
    },
    {
     "name": "stdout",
     "output_type": "stream",
     "text": [
      "Review 0.0 of 25000\n"
     ]
    },
    {
     "name": "stderr",
     "output_type": "stream",
     "text": [
      "/home/memery/anaconda3/lib/python3.5/site-packages/ipykernel/__main__.py:39: DeprecationWarning: using a non-integer number instead of an integer will result in an error in the future\n"
     ]
    },
    {
     "name": "stdout",
     "output_type": "stream",
     "text": [
      "Review 1000.0 of 25000\n",
      "Review 2000.0 of 25000\n",
      "Review 3000.0 of 25000\n",
      "Review 4000.0 of 25000\n",
      "Review 5000.0 of 25000\n",
      "Review 6000.0 of 25000\n",
      "Review 7000.0 of 25000\n",
      "Review 8000.0 of 25000\n",
      "Review 9000.0 of 25000\n",
      "Review 10000.0 of 25000\n",
      "Review 11000.0 of 25000\n",
      "Review 12000.0 of 25000\n",
      "Review 13000.0 of 25000\n",
      "Review 14000.0 of 25000\n",
      "Review 15000.0 of 25000\n",
      "Review 16000.0 of 25000\n",
      "Review 17000.0 of 25000\n",
      "Review 18000.0 of 25000\n",
      "Review 19000.0 of 25000\n",
      "Review 20000.0 of 25000\n",
      "Review 21000.0 of 25000\n",
      "Review 22000.0 of 25000\n",
      "Review 23000.0 of 25000\n",
      "Review 24000.0 of 25000\n",
      "Creating average feature vecs for test reviews\n",
      "Review 0.0 of 25000\n",
      "Review 1000.0 of 25000\n",
      "Review 2000.0 of 25000\n",
      "Review 3000.0 of 25000\n",
      "Review 4000.0 of 25000\n",
      "Review 5000.0 of 25000\n",
      "Review 6000.0 of 25000\n",
      "Review 7000.0 of 25000\n",
      "Review 8000.0 of 25000\n",
      "Review 9000.0 of 25000\n",
      "Review 10000.0 of 25000\n",
      "Review 11000.0 of 25000\n",
      "Review 12000.0 of 25000\n",
      "Review 13000.0 of 25000\n",
      "Review 14000.0 of 25000\n",
      "Review 15000.0 of 25000\n",
      "Review 16000.0 of 25000\n",
      "Review 17000.0 of 25000\n",
      "Review 18000.0 of 25000\n",
      "Review 19000.0 of 25000\n",
      "Review 20000.0 of 25000\n",
      "Review 21000.0 of 25000\n",
      "Review 22000.0 of 25000\n",
      "Review 23000.0 of 25000\n",
      "Review 24000.0 of 25000\n"
     ]
    }
   ],
   "source": [
    "clean_train_reviews = []\n",
    "for review in train['review']:\n",
    "    clean_train_reviews.append(review_to_wordlist(review, remove_stopwords=True))\n",
    "    \n",
    "trainDataVecs = getAvgFeatureVecs(clean_train_reviews, model, num_features)\n",
    "print('Creating average feature vecs for test reviews')\n",
    "clean_test_reviews = []\n",
    "for review in test['review']:\n",
    "    clean_test_reviews.append(review_to_wordlist(review, remove_stopwords=True))\n",
    "    \n",
    "testDataVecs = getAvgFeatureVecs(clean_test_reviews, model, num_features)"
   ]
  },
  {
   "cell_type": "code",
   "execution_count": null,
   "metadata": {
    "collapsed": true
   },
   "outputs": [],
   "source": []
  }
 ],
 "metadata": {
  "kernelspec": {
   "display_name": "Python 3",
   "language": "python",
   "name": "python3"
  },
  "language_info": {
   "codemirror_mode": {
    "name": "ipython",
    "version": 3
   },
   "file_extension": ".py",
   "mimetype": "text/x-python",
   "name": "python",
   "nbconvert_exporter": "python",
   "pygments_lexer": "ipython3",
   "version": "3.5.1"
  }
 },
 "nbformat": 4,
 "nbformat_minor": 0
}
